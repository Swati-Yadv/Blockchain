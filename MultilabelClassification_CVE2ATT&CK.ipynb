{
  "nbformat": 4,
  "nbformat_minor": 0,
  "metadata": {
    "colab": {
      "provenance": [],
      "gpuType": "T4",
      "authorship_tag": "ABX9TyPFZidyjEPVRztbpBBoKCuh",
      "include_colab_link": true
    },
    "kernelspec": {
      "name": "python3",
      "display_name": "Python 3"
    },
    "language_info": {
      "name": "python"
    },
    "accelerator": "GPU",
    "widgets": {
      "application/vnd.jupyter.widget-state+json": {
        "680600ece314461ca7c342a645097083": {
          "model_module": "@jupyter-widgets/controls",
          "model_name": "HBoxModel",
          "model_module_version": "1.5.0",
          "state": {
            "_dom_classes": [],
            "_model_module": "@jupyter-widgets/controls",
            "_model_module_version": "1.5.0",
            "_model_name": "HBoxModel",
            "_view_count": null,
            "_view_module": "@jupyter-widgets/controls",
            "_view_module_version": "1.5.0",
            "_view_name": "HBoxView",
            "box_style": "",
            "children": [
              "IPY_MODEL_4569e4b255f24ddeacb68ddb0e8a6ebe",
              "IPY_MODEL_5aaa0d6c76bf4b87a929779f9a00ac8e",
              "IPY_MODEL_1f14b10f5519439884bbfd0b49057ee0"
            ],
            "layout": "IPY_MODEL_c4e1d8fbd02049a5ab1599d9121cf1c0"
          }
        },
        "4569e4b255f24ddeacb68ddb0e8a6ebe": {
          "model_module": "@jupyter-widgets/controls",
          "model_name": "HTMLModel",
          "model_module_version": "1.5.0",
          "state": {
            "_dom_classes": [],
            "_model_module": "@jupyter-widgets/controls",
            "_model_module_version": "1.5.0",
            "_model_name": "HTMLModel",
            "_view_count": null,
            "_view_module": "@jupyter-widgets/controls",
            "_view_module_version": "1.5.0",
            "_view_name": "HTMLView",
            "description": "",
            "description_tooltip": null,
            "layout": "IPY_MODEL_d56f3f6de8c94aefb58e7e54457d8af8",
            "placeholder": "​",
            "style": "IPY_MODEL_cca7a2966d2147f0adbf5cc7960d08d2",
            "value": "Map: 100%"
          }
        },
        "5aaa0d6c76bf4b87a929779f9a00ac8e": {
          "model_module": "@jupyter-widgets/controls",
          "model_name": "FloatProgressModel",
          "model_module_version": "1.5.0",
          "state": {
            "_dom_classes": [],
            "_model_module": "@jupyter-widgets/controls",
            "_model_module_version": "1.5.0",
            "_model_name": "FloatProgressModel",
            "_view_count": null,
            "_view_module": "@jupyter-widgets/controls",
            "_view_module_version": "1.5.0",
            "_view_name": "ProgressView",
            "bar_style": "success",
            "description": "",
            "description_tooltip": null,
            "layout": "IPY_MODEL_5eb228d1b6f1429297d1f3920b4910d0",
            "max": 4811,
            "min": 0,
            "orientation": "horizontal",
            "style": "IPY_MODEL_34290680dfa44a92bc8224631eb36790",
            "value": 4811
          }
        },
        "1f14b10f5519439884bbfd0b49057ee0": {
          "model_module": "@jupyter-widgets/controls",
          "model_name": "HTMLModel",
          "model_module_version": "1.5.0",
          "state": {
            "_dom_classes": [],
            "_model_module": "@jupyter-widgets/controls",
            "_model_module_version": "1.5.0",
            "_model_name": "HTMLModel",
            "_view_count": null,
            "_view_module": "@jupyter-widgets/controls",
            "_view_module_version": "1.5.0",
            "_view_name": "HTMLView",
            "description": "",
            "description_tooltip": null,
            "layout": "IPY_MODEL_bd0250cee89f4bf8b6fd247fa7b830bf",
            "placeholder": "​",
            "style": "IPY_MODEL_220eacafdc0d4df88d4065f7febfac70",
            "value": " 4811/4811 [00:03&lt;00:00, 1269.90 examples/s]"
          }
        },
        "c4e1d8fbd02049a5ab1599d9121cf1c0": {
          "model_module": "@jupyter-widgets/base",
          "model_name": "LayoutModel",
          "model_module_version": "1.2.0",
          "state": {
            "_model_module": "@jupyter-widgets/base",
            "_model_module_version": "1.2.0",
            "_model_name": "LayoutModel",
            "_view_count": null,
            "_view_module": "@jupyter-widgets/base",
            "_view_module_version": "1.2.0",
            "_view_name": "LayoutView",
            "align_content": null,
            "align_items": null,
            "align_self": null,
            "border": null,
            "bottom": null,
            "display": null,
            "flex": null,
            "flex_flow": null,
            "grid_area": null,
            "grid_auto_columns": null,
            "grid_auto_flow": null,
            "grid_auto_rows": null,
            "grid_column": null,
            "grid_gap": null,
            "grid_row": null,
            "grid_template_areas": null,
            "grid_template_columns": null,
            "grid_template_rows": null,
            "height": null,
            "justify_content": null,
            "justify_items": null,
            "left": null,
            "margin": null,
            "max_height": null,
            "max_width": null,
            "min_height": null,
            "min_width": null,
            "object_fit": null,
            "object_position": null,
            "order": null,
            "overflow": null,
            "overflow_x": null,
            "overflow_y": null,
            "padding": null,
            "right": null,
            "top": null,
            "visibility": null,
            "width": null
          }
        },
        "d56f3f6de8c94aefb58e7e54457d8af8": {
          "model_module": "@jupyter-widgets/base",
          "model_name": "LayoutModel",
          "model_module_version": "1.2.0",
          "state": {
            "_model_module": "@jupyter-widgets/base",
            "_model_module_version": "1.2.0",
            "_model_name": "LayoutModel",
            "_view_count": null,
            "_view_module": "@jupyter-widgets/base",
            "_view_module_version": "1.2.0",
            "_view_name": "LayoutView",
            "align_content": null,
            "align_items": null,
            "align_self": null,
            "border": null,
            "bottom": null,
            "display": null,
            "flex": null,
            "flex_flow": null,
            "grid_area": null,
            "grid_auto_columns": null,
            "grid_auto_flow": null,
            "grid_auto_rows": null,
            "grid_column": null,
            "grid_gap": null,
            "grid_row": null,
            "grid_template_areas": null,
            "grid_template_columns": null,
            "grid_template_rows": null,
            "height": null,
            "justify_content": null,
            "justify_items": null,
            "left": null,
            "margin": null,
            "max_height": null,
            "max_width": null,
            "min_height": null,
            "min_width": null,
            "object_fit": null,
            "object_position": null,
            "order": null,
            "overflow": null,
            "overflow_x": null,
            "overflow_y": null,
            "padding": null,
            "right": null,
            "top": null,
            "visibility": null,
            "width": null
          }
        },
        "cca7a2966d2147f0adbf5cc7960d08d2": {
          "model_module": "@jupyter-widgets/controls",
          "model_name": "DescriptionStyleModel",
          "model_module_version": "1.5.0",
          "state": {
            "_model_module": "@jupyter-widgets/controls",
            "_model_module_version": "1.5.0",
            "_model_name": "DescriptionStyleModel",
            "_view_count": null,
            "_view_module": "@jupyter-widgets/base",
            "_view_module_version": "1.2.0",
            "_view_name": "StyleView",
            "description_width": ""
          }
        },
        "5eb228d1b6f1429297d1f3920b4910d0": {
          "model_module": "@jupyter-widgets/base",
          "model_name": "LayoutModel",
          "model_module_version": "1.2.0",
          "state": {
            "_model_module": "@jupyter-widgets/base",
            "_model_module_version": "1.2.0",
            "_model_name": "LayoutModel",
            "_view_count": null,
            "_view_module": "@jupyter-widgets/base",
            "_view_module_version": "1.2.0",
            "_view_name": "LayoutView",
            "align_content": null,
            "align_items": null,
            "align_self": null,
            "border": null,
            "bottom": null,
            "display": null,
            "flex": null,
            "flex_flow": null,
            "grid_area": null,
            "grid_auto_columns": null,
            "grid_auto_flow": null,
            "grid_auto_rows": null,
            "grid_column": null,
            "grid_gap": null,
            "grid_row": null,
            "grid_template_areas": null,
            "grid_template_columns": null,
            "grid_template_rows": null,
            "height": null,
            "justify_content": null,
            "justify_items": null,
            "left": null,
            "margin": null,
            "max_height": null,
            "max_width": null,
            "min_height": null,
            "min_width": null,
            "object_fit": null,
            "object_position": null,
            "order": null,
            "overflow": null,
            "overflow_x": null,
            "overflow_y": null,
            "padding": null,
            "right": null,
            "top": null,
            "visibility": null,
            "width": null
          }
        },
        "34290680dfa44a92bc8224631eb36790": {
          "model_module": "@jupyter-widgets/controls",
          "model_name": "ProgressStyleModel",
          "model_module_version": "1.5.0",
          "state": {
            "_model_module": "@jupyter-widgets/controls",
            "_model_module_version": "1.5.0",
            "_model_name": "ProgressStyleModel",
            "_view_count": null,
            "_view_module": "@jupyter-widgets/base",
            "_view_module_version": "1.2.0",
            "_view_name": "StyleView",
            "bar_color": null,
            "description_width": ""
          }
        },
        "bd0250cee89f4bf8b6fd247fa7b830bf": {
          "model_module": "@jupyter-widgets/base",
          "model_name": "LayoutModel",
          "model_module_version": "1.2.0",
          "state": {
            "_model_module": "@jupyter-widgets/base",
            "_model_module_version": "1.2.0",
            "_model_name": "LayoutModel",
            "_view_count": null,
            "_view_module": "@jupyter-widgets/base",
            "_view_module_version": "1.2.0",
            "_view_name": "LayoutView",
            "align_content": null,
            "align_items": null,
            "align_self": null,
            "border": null,
            "bottom": null,
            "display": null,
            "flex": null,
            "flex_flow": null,
            "grid_area": null,
            "grid_auto_columns": null,
            "grid_auto_flow": null,
            "grid_auto_rows": null,
            "grid_column": null,
            "grid_gap": null,
            "grid_row": null,
            "grid_template_areas": null,
            "grid_template_columns": null,
            "grid_template_rows": null,
            "height": null,
            "justify_content": null,
            "justify_items": null,
            "left": null,
            "margin": null,
            "max_height": null,
            "max_width": null,
            "min_height": null,
            "min_width": null,
            "object_fit": null,
            "object_position": null,
            "order": null,
            "overflow": null,
            "overflow_x": null,
            "overflow_y": null,
            "padding": null,
            "right": null,
            "top": null,
            "visibility": null,
            "width": null
          }
        },
        "220eacafdc0d4df88d4065f7febfac70": {
          "model_module": "@jupyter-widgets/controls",
          "model_name": "DescriptionStyleModel",
          "model_module_version": "1.5.0",
          "state": {
            "_model_module": "@jupyter-widgets/controls",
            "_model_module_version": "1.5.0",
            "_model_name": "DescriptionStyleModel",
            "_view_count": null,
            "_view_module": "@jupyter-widgets/base",
            "_view_module_version": "1.2.0",
            "_view_name": "StyleView",
            "description_width": ""
          }
        },
        "dc7432ed240b4855af3ab7d676472c5b": {
          "model_module": "@jupyter-widgets/controls",
          "model_name": "HBoxModel",
          "model_module_version": "1.5.0",
          "state": {
            "_dom_classes": [],
            "_model_module": "@jupyter-widgets/controls",
            "_model_module_version": "1.5.0",
            "_model_name": "HBoxModel",
            "_view_count": null,
            "_view_module": "@jupyter-widgets/controls",
            "_view_module_version": "1.5.0",
            "_view_name": "HBoxView",
            "box_style": "",
            "children": [
              "IPY_MODEL_02a09423d0234b50b9747a2b521651c8",
              "IPY_MODEL_f722e1651b0946ba8f79a0bdaa4cb4b1",
              "IPY_MODEL_0023f4f3515d41179dbdf8dfffedfec0"
            ],
            "layout": "IPY_MODEL_211f9f4530284955bec66596f41c72fa"
          }
        },
        "02a09423d0234b50b9747a2b521651c8": {
          "model_module": "@jupyter-widgets/controls",
          "model_name": "HTMLModel",
          "model_module_version": "1.5.0",
          "state": {
            "_dom_classes": [],
            "_model_module": "@jupyter-widgets/controls",
            "_model_module_version": "1.5.0",
            "_model_name": "HTMLModel",
            "_view_count": null,
            "_view_module": "@jupyter-widgets/controls",
            "_view_module_version": "1.5.0",
            "_view_name": "HTMLView",
            "description": "",
            "description_tooltip": null,
            "layout": "IPY_MODEL_dc95635ad41849d4b5945aad3182a5e1",
            "placeholder": "​",
            "style": "IPY_MODEL_40098950dd7941669dd58127fe85a720",
            "value": "Map: 100%"
          }
        },
        "f722e1651b0946ba8f79a0bdaa4cb4b1": {
          "model_module": "@jupyter-widgets/controls",
          "model_name": "FloatProgressModel",
          "model_module_version": "1.5.0",
          "state": {
            "_dom_classes": [],
            "_model_module": "@jupyter-widgets/controls",
            "_model_module_version": "1.5.0",
            "_model_name": "FloatProgressModel",
            "_view_count": null,
            "_view_module": "@jupyter-widgets/controls",
            "_view_module_version": "1.5.0",
            "_view_name": "ProgressView",
            "bar_style": "success",
            "description": "",
            "description_tooltip": null,
            "layout": "IPY_MODEL_2be5a1054d7f490ca9dd90c230688589",
            "max": 601,
            "min": 0,
            "orientation": "horizontal",
            "style": "IPY_MODEL_8b72d680452b48c4a1cde75a348ce0bd",
            "value": 601
          }
        },
        "0023f4f3515d41179dbdf8dfffedfec0": {
          "model_module": "@jupyter-widgets/controls",
          "model_name": "HTMLModel",
          "model_module_version": "1.5.0",
          "state": {
            "_dom_classes": [],
            "_model_module": "@jupyter-widgets/controls",
            "_model_module_version": "1.5.0",
            "_model_name": "HTMLModel",
            "_view_count": null,
            "_view_module": "@jupyter-widgets/controls",
            "_view_module_version": "1.5.0",
            "_view_name": "HTMLView",
            "description": "",
            "description_tooltip": null,
            "layout": "IPY_MODEL_2178d4c6227149febc826cc324c5b9e7",
            "placeholder": "​",
            "style": "IPY_MODEL_0929cad27adc4af3a0f4b7101f0dcd33",
            "value": " 601/601 [00:00&lt;00:00, 1146.88 examples/s]"
          }
        },
        "211f9f4530284955bec66596f41c72fa": {
          "model_module": "@jupyter-widgets/base",
          "model_name": "LayoutModel",
          "model_module_version": "1.2.0",
          "state": {
            "_model_module": "@jupyter-widgets/base",
            "_model_module_version": "1.2.0",
            "_model_name": "LayoutModel",
            "_view_count": null,
            "_view_module": "@jupyter-widgets/base",
            "_view_module_version": "1.2.0",
            "_view_name": "LayoutView",
            "align_content": null,
            "align_items": null,
            "align_self": null,
            "border": null,
            "bottom": null,
            "display": null,
            "flex": null,
            "flex_flow": null,
            "grid_area": null,
            "grid_auto_columns": null,
            "grid_auto_flow": null,
            "grid_auto_rows": null,
            "grid_column": null,
            "grid_gap": null,
            "grid_row": null,
            "grid_template_areas": null,
            "grid_template_columns": null,
            "grid_template_rows": null,
            "height": null,
            "justify_content": null,
            "justify_items": null,
            "left": null,
            "margin": null,
            "max_height": null,
            "max_width": null,
            "min_height": null,
            "min_width": null,
            "object_fit": null,
            "object_position": null,
            "order": null,
            "overflow": null,
            "overflow_x": null,
            "overflow_y": null,
            "padding": null,
            "right": null,
            "top": null,
            "visibility": null,
            "width": null
          }
        },
        "dc95635ad41849d4b5945aad3182a5e1": {
          "model_module": "@jupyter-widgets/base",
          "model_name": "LayoutModel",
          "model_module_version": "1.2.0",
          "state": {
            "_model_module": "@jupyter-widgets/base",
            "_model_module_version": "1.2.0",
            "_model_name": "LayoutModel",
            "_view_count": null,
            "_view_module": "@jupyter-widgets/base",
            "_view_module_version": "1.2.0",
            "_view_name": "LayoutView",
            "align_content": null,
            "align_items": null,
            "align_self": null,
            "border": null,
            "bottom": null,
            "display": null,
            "flex": null,
            "flex_flow": null,
            "grid_area": null,
            "grid_auto_columns": null,
            "grid_auto_flow": null,
            "grid_auto_rows": null,
            "grid_column": null,
            "grid_gap": null,
            "grid_row": null,
            "grid_template_areas": null,
            "grid_template_columns": null,
            "grid_template_rows": null,
            "height": null,
            "justify_content": null,
            "justify_items": null,
            "left": null,
            "margin": null,
            "max_height": null,
            "max_width": null,
            "min_height": null,
            "min_width": null,
            "object_fit": null,
            "object_position": null,
            "order": null,
            "overflow": null,
            "overflow_x": null,
            "overflow_y": null,
            "padding": null,
            "right": null,
            "top": null,
            "visibility": null,
            "width": null
          }
        },
        "40098950dd7941669dd58127fe85a720": {
          "model_module": "@jupyter-widgets/controls",
          "model_name": "DescriptionStyleModel",
          "model_module_version": "1.5.0",
          "state": {
            "_model_module": "@jupyter-widgets/controls",
            "_model_module_version": "1.5.0",
            "_model_name": "DescriptionStyleModel",
            "_view_count": null,
            "_view_module": "@jupyter-widgets/base",
            "_view_module_version": "1.2.0",
            "_view_name": "StyleView",
            "description_width": ""
          }
        },
        "2be5a1054d7f490ca9dd90c230688589": {
          "model_module": "@jupyter-widgets/base",
          "model_name": "LayoutModel",
          "model_module_version": "1.2.0",
          "state": {
            "_model_module": "@jupyter-widgets/base",
            "_model_module_version": "1.2.0",
            "_model_name": "LayoutModel",
            "_view_count": null,
            "_view_module": "@jupyter-widgets/base",
            "_view_module_version": "1.2.0",
            "_view_name": "LayoutView",
            "align_content": null,
            "align_items": null,
            "align_self": null,
            "border": null,
            "bottom": null,
            "display": null,
            "flex": null,
            "flex_flow": null,
            "grid_area": null,
            "grid_auto_columns": null,
            "grid_auto_flow": null,
            "grid_auto_rows": null,
            "grid_column": null,
            "grid_gap": null,
            "grid_row": null,
            "grid_template_areas": null,
            "grid_template_columns": null,
            "grid_template_rows": null,
            "height": null,
            "justify_content": null,
            "justify_items": null,
            "left": null,
            "margin": null,
            "max_height": null,
            "max_width": null,
            "min_height": null,
            "min_width": null,
            "object_fit": null,
            "object_position": null,
            "order": null,
            "overflow": null,
            "overflow_x": null,
            "overflow_y": null,
            "padding": null,
            "right": null,
            "top": null,
            "visibility": null,
            "width": null
          }
        },
        "8b72d680452b48c4a1cde75a348ce0bd": {
          "model_module": "@jupyter-widgets/controls",
          "model_name": "ProgressStyleModel",
          "model_module_version": "1.5.0",
          "state": {
            "_model_module": "@jupyter-widgets/controls",
            "_model_module_version": "1.5.0",
            "_model_name": "ProgressStyleModel",
            "_view_count": null,
            "_view_module": "@jupyter-widgets/base",
            "_view_module_version": "1.2.0",
            "_view_name": "StyleView",
            "bar_color": null,
            "description_width": ""
          }
        },
        "2178d4c6227149febc826cc324c5b9e7": {
          "model_module": "@jupyter-widgets/base",
          "model_name": "LayoutModel",
          "model_module_version": "1.2.0",
          "state": {
            "_model_module": "@jupyter-widgets/base",
            "_model_module_version": "1.2.0",
            "_model_name": "LayoutModel",
            "_view_count": null,
            "_view_module": "@jupyter-widgets/base",
            "_view_module_version": "1.2.0",
            "_view_name": "LayoutView",
            "align_content": null,
            "align_items": null,
            "align_self": null,
            "border": null,
            "bottom": null,
            "display": null,
            "flex": null,
            "flex_flow": null,
            "grid_area": null,
            "grid_auto_columns": null,
            "grid_auto_flow": null,
            "grid_auto_rows": null,
            "grid_column": null,
            "grid_gap": null,
            "grid_row": null,
            "grid_template_areas": null,
            "grid_template_columns": null,
            "grid_template_rows": null,
            "height": null,
            "justify_content": null,
            "justify_items": null,
            "left": null,
            "margin": null,
            "max_height": null,
            "max_width": null,
            "min_height": null,
            "min_width": null,
            "object_fit": null,
            "object_position": null,
            "order": null,
            "overflow": null,
            "overflow_x": null,
            "overflow_y": null,
            "padding": null,
            "right": null,
            "top": null,
            "visibility": null,
            "width": null
          }
        },
        "0929cad27adc4af3a0f4b7101f0dcd33": {
          "model_module": "@jupyter-widgets/controls",
          "model_name": "DescriptionStyleModel",
          "model_module_version": "1.5.0",
          "state": {
            "_model_module": "@jupyter-widgets/controls",
            "_model_module_version": "1.5.0",
            "_model_name": "DescriptionStyleModel",
            "_view_count": null,
            "_view_module": "@jupyter-widgets/base",
            "_view_module_version": "1.2.0",
            "_view_name": "StyleView",
            "description_width": ""
          }
        },
        "8f2ffaf3172b451798e66a63bfe1388f": {
          "model_module": "@jupyter-widgets/controls",
          "model_name": "HBoxModel",
          "model_module_version": "1.5.0",
          "state": {
            "_dom_classes": [],
            "_model_module": "@jupyter-widgets/controls",
            "_model_module_version": "1.5.0",
            "_model_name": "HBoxModel",
            "_view_count": null,
            "_view_module": "@jupyter-widgets/controls",
            "_view_module_version": "1.5.0",
            "_view_name": "HBoxView",
            "box_style": "",
            "children": [
              "IPY_MODEL_f6d1d4ab7cae46ffb50496e199b43bfe",
              "IPY_MODEL_59d6ee7bd9e9476fb170bfbb738bad36",
              "IPY_MODEL_d01682c7c58847ffb352844bab52aaf4"
            ],
            "layout": "IPY_MODEL_0aca2aa7bca54373a4e84808e2e714af"
          }
        },
        "f6d1d4ab7cae46ffb50496e199b43bfe": {
          "model_module": "@jupyter-widgets/controls",
          "model_name": "HTMLModel",
          "model_module_version": "1.5.0",
          "state": {
            "_dom_classes": [],
            "_model_module": "@jupyter-widgets/controls",
            "_model_module_version": "1.5.0",
            "_model_name": "HTMLModel",
            "_view_count": null,
            "_view_module": "@jupyter-widgets/controls",
            "_view_module_version": "1.5.0",
            "_view_name": "HTMLView",
            "description": "",
            "description_tooltip": null,
            "layout": "IPY_MODEL_a8690dc3459c4ee6a3302ea614783659",
            "placeholder": "​",
            "style": "IPY_MODEL_f1853e128d2c4ebf81290ee6fb141c1b",
            "value": "Map: 100%"
          }
        },
        "59d6ee7bd9e9476fb170bfbb738bad36": {
          "model_module": "@jupyter-widgets/controls",
          "model_name": "FloatProgressModel",
          "model_module_version": "1.5.0",
          "state": {
            "_dom_classes": [],
            "_model_module": "@jupyter-widgets/controls",
            "_model_module_version": "1.5.0",
            "_model_name": "FloatProgressModel",
            "_view_count": null,
            "_view_module": "@jupyter-widgets/controls",
            "_view_module_version": "1.5.0",
            "_view_name": "ProgressView",
            "bar_style": "success",
            "description": "",
            "description_tooltip": null,
            "layout": "IPY_MODEL_8388908380d44d269f62a7ab18287a5d",
            "max": 602,
            "min": 0,
            "orientation": "horizontal",
            "style": "IPY_MODEL_17ee5077b4784a8cb4b43eff254267b5",
            "value": 602
          }
        },
        "d01682c7c58847ffb352844bab52aaf4": {
          "model_module": "@jupyter-widgets/controls",
          "model_name": "HTMLModel",
          "model_module_version": "1.5.0",
          "state": {
            "_dom_classes": [],
            "_model_module": "@jupyter-widgets/controls",
            "_model_module_version": "1.5.0",
            "_model_name": "HTMLModel",
            "_view_count": null,
            "_view_module": "@jupyter-widgets/controls",
            "_view_module_version": "1.5.0",
            "_view_name": "HTMLView",
            "description": "",
            "description_tooltip": null,
            "layout": "IPY_MODEL_0c8f539dc5a94439ba8eb016b577533c",
            "placeholder": "​",
            "style": "IPY_MODEL_7730d22b9b894bfca6a87163ef7404d0",
            "value": " 602/602 [00:00&lt;00:00, 1229.08 examples/s]"
          }
        },
        "0aca2aa7bca54373a4e84808e2e714af": {
          "model_module": "@jupyter-widgets/base",
          "model_name": "LayoutModel",
          "model_module_version": "1.2.0",
          "state": {
            "_model_module": "@jupyter-widgets/base",
            "_model_module_version": "1.2.0",
            "_model_name": "LayoutModel",
            "_view_count": null,
            "_view_module": "@jupyter-widgets/base",
            "_view_module_version": "1.2.0",
            "_view_name": "LayoutView",
            "align_content": null,
            "align_items": null,
            "align_self": null,
            "border": null,
            "bottom": null,
            "display": null,
            "flex": null,
            "flex_flow": null,
            "grid_area": null,
            "grid_auto_columns": null,
            "grid_auto_flow": null,
            "grid_auto_rows": null,
            "grid_column": null,
            "grid_gap": null,
            "grid_row": null,
            "grid_template_areas": null,
            "grid_template_columns": null,
            "grid_template_rows": null,
            "height": null,
            "justify_content": null,
            "justify_items": null,
            "left": null,
            "margin": null,
            "max_height": null,
            "max_width": null,
            "min_height": null,
            "min_width": null,
            "object_fit": null,
            "object_position": null,
            "order": null,
            "overflow": null,
            "overflow_x": null,
            "overflow_y": null,
            "padding": null,
            "right": null,
            "top": null,
            "visibility": null,
            "width": null
          }
        },
        "a8690dc3459c4ee6a3302ea614783659": {
          "model_module": "@jupyter-widgets/base",
          "model_name": "LayoutModel",
          "model_module_version": "1.2.0",
          "state": {
            "_model_module": "@jupyter-widgets/base",
            "_model_module_version": "1.2.0",
            "_model_name": "LayoutModel",
            "_view_count": null,
            "_view_module": "@jupyter-widgets/base",
            "_view_module_version": "1.2.0",
            "_view_name": "LayoutView",
            "align_content": null,
            "align_items": null,
            "align_self": null,
            "border": null,
            "bottom": null,
            "display": null,
            "flex": null,
            "flex_flow": null,
            "grid_area": null,
            "grid_auto_columns": null,
            "grid_auto_flow": null,
            "grid_auto_rows": null,
            "grid_column": null,
            "grid_gap": null,
            "grid_row": null,
            "grid_template_areas": null,
            "grid_template_columns": null,
            "grid_template_rows": null,
            "height": null,
            "justify_content": null,
            "justify_items": null,
            "left": null,
            "margin": null,
            "max_height": null,
            "max_width": null,
            "min_height": null,
            "min_width": null,
            "object_fit": null,
            "object_position": null,
            "order": null,
            "overflow": null,
            "overflow_x": null,
            "overflow_y": null,
            "padding": null,
            "right": null,
            "top": null,
            "visibility": null,
            "width": null
          }
        },
        "f1853e128d2c4ebf81290ee6fb141c1b": {
          "model_module": "@jupyter-widgets/controls",
          "model_name": "DescriptionStyleModel",
          "model_module_version": "1.5.0",
          "state": {
            "_model_module": "@jupyter-widgets/controls",
            "_model_module_version": "1.5.0",
            "_model_name": "DescriptionStyleModel",
            "_view_count": null,
            "_view_module": "@jupyter-widgets/base",
            "_view_module_version": "1.2.0",
            "_view_name": "StyleView",
            "description_width": ""
          }
        },
        "8388908380d44d269f62a7ab18287a5d": {
          "model_module": "@jupyter-widgets/base",
          "model_name": "LayoutModel",
          "model_module_version": "1.2.0",
          "state": {
            "_model_module": "@jupyter-widgets/base",
            "_model_module_version": "1.2.0",
            "_model_name": "LayoutModel",
            "_view_count": null,
            "_view_module": "@jupyter-widgets/base",
            "_view_module_version": "1.2.0",
            "_view_name": "LayoutView",
            "align_content": null,
            "align_items": null,
            "align_self": null,
            "border": null,
            "bottom": null,
            "display": null,
            "flex": null,
            "flex_flow": null,
            "grid_area": null,
            "grid_auto_columns": null,
            "grid_auto_flow": null,
            "grid_auto_rows": null,
            "grid_column": null,
            "grid_gap": null,
            "grid_row": null,
            "grid_template_areas": null,
            "grid_template_columns": null,
            "grid_template_rows": null,
            "height": null,
            "justify_content": null,
            "justify_items": null,
            "left": null,
            "margin": null,
            "max_height": null,
            "max_width": null,
            "min_height": null,
            "min_width": null,
            "object_fit": null,
            "object_position": null,
            "order": null,
            "overflow": null,
            "overflow_x": null,
            "overflow_y": null,
            "padding": null,
            "right": null,
            "top": null,
            "visibility": null,
            "width": null
          }
        },
        "17ee5077b4784a8cb4b43eff254267b5": {
          "model_module": "@jupyter-widgets/controls",
          "model_name": "ProgressStyleModel",
          "model_module_version": "1.5.0",
          "state": {
            "_model_module": "@jupyter-widgets/controls",
            "_model_module_version": "1.5.0",
            "_model_name": "ProgressStyleModel",
            "_view_count": null,
            "_view_module": "@jupyter-widgets/base",
            "_view_module_version": "1.2.0",
            "_view_name": "StyleView",
            "bar_color": null,
            "description_width": ""
          }
        },
        "0c8f539dc5a94439ba8eb016b577533c": {
          "model_module": "@jupyter-widgets/base",
          "model_name": "LayoutModel",
          "model_module_version": "1.2.0",
          "state": {
            "_model_module": "@jupyter-widgets/base",
            "_model_module_version": "1.2.0",
            "_model_name": "LayoutModel",
            "_view_count": null,
            "_view_module": "@jupyter-widgets/base",
            "_view_module_version": "1.2.0",
            "_view_name": "LayoutView",
            "align_content": null,
            "align_items": null,
            "align_self": null,
            "border": null,
            "bottom": null,
            "display": null,
            "flex": null,
            "flex_flow": null,
            "grid_area": null,
            "grid_auto_columns": null,
            "grid_auto_flow": null,
            "grid_auto_rows": null,
            "grid_column": null,
            "grid_gap": null,
            "grid_row": null,
            "grid_template_areas": null,
            "grid_template_columns": null,
            "grid_template_rows": null,
            "height": null,
            "justify_content": null,
            "justify_items": null,
            "left": null,
            "margin": null,
            "max_height": null,
            "max_width": null,
            "min_height": null,
            "min_width": null,
            "object_fit": null,
            "object_position": null,
            "order": null,
            "overflow": null,
            "overflow_x": null,
            "overflow_y": null,
            "padding": null,
            "right": null,
            "top": null,
            "visibility": null,
            "width": null
          }
        },
        "7730d22b9b894bfca6a87163ef7404d0": {
          "model_module": "@jupyter-widgets/controls",
          "model_name": "DescriptionStyleModel",
          "model_module_version": "1.5.0",
          "state": {
            "_model_module": "@jupyter-widgets/controls",
            "_model_module_version": "1.5.0",
            "_model_name": "DescriptionStyleModel",
            "_view_count": null,
            "_view_module": "@jupyter-widgets/base",
            "_view_module_version": "1.2.0",
            "_view_name": "StyleView",
            "description_width": ""
          }
        }
      }
    }
  },
  "cells": [
    {
      "cell_type": "markdown",
      "metadata": {
        "id": "view-in-github",
        "colab_type": "text"
      },
      "source": [
        "<a href=\"https://colab.research.google.com/github/Swati-Yadv/Blockchain/blob/master/MultilabelClassification_CVE2ATT%26CK.ipynb\" target=\"_parent\"><img src=\"https://colab.research.google.com/assets/colab-badge.svg\" alt=\"Open In Colab\"/></a>"
      ]
    },
    {
      "cell_type": "markdown",
      "source": [
        "Multilabel Classification on https://github.com/readerbench/CVE2ATT-CK-tactics/tree/main/data"
      ],
      "metadata": {
        "id": "BAb0A36vgvr5"
      }
    },
    {
      "cell_type": "code",
      "execution_count": 2,
      "metadata": {
        "colab": {
          "base_uri": "https://localhost:8080/"
        },
        "collapsed": true,
        "id": "a95K3JH-LpUR",
        "outputId": "e58523a2-07bd-4cb2-baef-0e713bbf79e7"
      },
      "outputs": [
        {
          "output_type": "stream",
          "name": "stdout",
          "text": [
            "Requirement already satisfied: transformers in /usr/local/lib/python3.10/dist-packages (4.47.1)\n",
            "Requirement already satisfied: datasets in /usr/local/lib/python3.10/dist-packages (3.2.0)\n",
            "Requirement already satisfied: torch in /usr/local/lib/python3.10/dist-packages (2.5.1+cu121)\n",
            "Requirement already satisfied: seaborn in /usr/local/lib/python3.10/dist-packages (0.13.2)\n",
            "Requirement already satisfied: matplotlib in /usr/local/lib/python3.10/dist-packages (3.8.0)\n",
            "Requirement already satisfied: scikit-learn in /usr/local/lib/python3.10/dist-packages (1.6.0)\n",
            "Requirement already satisfied: filelock in /usr/local/lib/python3.10/dist-packages (from transformers) (3.16.1)\n",
            "Requirement already satisfied: huggingface-hub<1.0,>=0.24.0 in /usr/local/lib/python3.10/dist-packages (from transformers) (0.27.0)\n",
            "Requirement already satisfied: numpy>=1.17 in /usr/local/lib/python3.10/dist-packages (from transformers) (1.26.4)\n",
            "Requirement already satisfied: packaging>=20.0 in /usr/local/lib/python3.10/dist-packages (from transformers) (24.2)\n",
            "Requirement already satisfied: pyyaml>=5.1 in /usr/local/lib/python3.10/dist-packages (from transformers) (6.0.2)\n",
            "Requirement already satisfied: regex!=2019.12.17 in /usr/local/lib/python3.10/dist-packages (from transformers) (2024.11.6)\n",
            "Requirement already satisfied: requests in /usr/local/lib/python3.10/dist-packages (from transformers) (2.32.3)\n",
            "Requirement already satisfied: tokenizers<0.22,>=0.21 in /usr/local/lib/python3.10/dist-packages (from transformers) (0.21.0)\n",
            "Requirement already satisfied: safetensors>=0.4.1 in /usr/local/lib/python3.10/dist-packages (from transformers) (0.4.5)\n",
            "Requirement already satisfied: tqdm>=4.27 in /usr/local/lib/python3.10/dist-packages (from transformers) (4.67.1)\n",
            "Requirement already satisfied: pyarrow>=15.0.0 in /usr/local/lib/python3.10/dist-packages (from datasets) (17.0.0)\n",
            "Requirement already satisfied: dill<0.3.9,>=0.3.0 in /usr/local/lib/python3.10/dist-packages (from datasets) (0.3.8)\n",
            "Requirement already satisfied: pandas in /usr/local/lib/python3.10/dist-packages (from datasets) (2.2.2)\n",
            "Requirement already satisfied: xxhash in /usr/local/lib/python3.10/dist-packages (from datasets) (3.5.0)\n",
            "Requirement already satisfied: multiprocess<0.70.17 in /usr/local/lib/python3.10/dist-packages (from datasets) (0.70.16)\n",
            "Requirement already satisfied: fsspec<=2024.9.0,>=2023.1.0 in /usr/local/lib/python3.10/dist-packages (from fsspec[http]<=2024.9.0,>=2023.1.0->datasets) (2024.9.0)\n",
            "Requirement already satisfied: aiohttp in /usr/local/lib/python3.10/dist-packages (from datasets) (3.11.10)\n",
            "Requirement already satisfied: typing-extensions>=4.8.0 in /usr/local/lib/python3.10/dist-packages (from torch) (4.12.2)\n",
            "Requirement already satisfied: networkx in /usr/local/lib/python3.10/dist-packages (from torch) (3.4.2)\n",
            "Requirement already satisfied: jinja2 in /usr/local/lib/python3.10/dist-packages (from torch) (3.1.4)\n",
            "Requirement already satisfied: sympy==1.13.1 in /usr/local/lib/python3.10/dist-packages (from torch) (1.13.1)\n",
            "Requirement already satisfied: mpmath<1.4,>=1.1.0 in /usr/local/lib/python3.10/dist-packages (from sympy==1.13.1->torch) (1.3.0)\n",
            "Requirement already satisfied: contourpy>=1.0.1 in /usr/local/lib/python3.10/dist-packages (from matplotlib) (1.3.1)\n",
            "Requirement already satisfied: cycler>=0.10 in /usr/local/lib/python3.10/dist-packages (from matplotlib) (0.12.1)\n",
            "Requirement already satisfied: fonttools>=4.22.0 in /usr/local/lib/python3.10/dist-packages (from matplotlib) (4.55.3)\n",
            "Requirement already satisfied: kiwisolver>=1.0.1 in /usr/local/lib/python3.10/dist-packages (from matplotlib) (1.4.7)\n",
            "Requirement already satisfied: pillow>=6.2.0 in /usr/local/lib/python3.10/dist-packages (from matplotlib) (11.0.0)\n",
            "Requirement already satisfied: pyparsing>=2.3.1 in /usr/local/lib/python3.10/dist-packages (from matplotlib) (3.2.0)\n",
            "Requirement already satisfied: python-dateutil>=2.7 in /usr/local/lib/python3.10/dist-packages (from matplotlib) (2.8.2)\n",
            "Requirement already satisfied: scipy>=1.6.0 in /usr/local/lib/python3.10/dist-packages (from scikit-learn) (1.13.1)\n",
            "Requirement already satisfied: joblib>=1.2.0 in /usr/local/lib/python3.10/dist-packages (from scikit-learn) (1.4.2)\n",
            "Requirement already satisfied: threadpoolctl>=3.1.0 in /usr/local/lib/python3.10/dist-packages (from scikit-learn) (3.5.0)\n",
            "Requirement already satisfied: aiohappyeyeballs>=2.3.0 in /usr/local/lib/python3.10/dist-packages (from aiohttp->datasets) (2.4.4)\n",
            "Requirement already satisfied: aiosignal>=1.1.2 in /usr/local/lib/python3.10/dist-packages (from aiohttp->datasets) (1.3.2)\n",
            "Requirement already satisfied: async-timeout<6.0,>=4.0 in /usr/local/lib/python3.10/dist-packages (from aiohttp->datasets) (4.0.3)\n",
            "Requirement already satisfied: attrs>=17.3.0 in /usr/local/lib/python3.10/dist-packages (from aiohttp->datasets) (24.3.0)\n",
            "Requirement already satisfied: frozenlist>=1.1.1 in /usr/local/lib/python3.10/dist-packages (from aiohttp->datasets) (1.5.0)\n",
            "Requirement already satisfied: multidict<7.0,>=4.5 in /usr/local/lib/python3.10/dist-packages (from aiohttp->datasets) (6.1.0)\n",
            "Requirement already satisfied: propcache>=0.2.0 in /usr/local/lib/python3.10/dist-packages (from aiohttp->datasets) (0.2.1)\n",
            "Requirement already satisfied: yarl<2.0,>=1.17.0 in /usr/local/lib/python3.10/dist-packages (from aiohttp->datasets) (1.18.3)\n",
            "Requirement already satisfied: pytz>=2020.1 in /usr/local/lib/python3.10/dist-packages (from pandas->datasets) (2024.2)\n",
            "Requirement already satisfied: tzdata>=2022.7 in /usr/local/lib/python3.10/dist-packages (from pandas->datasets) (2024.2)\n",
            "Requirement already satisfied: six>=1.5 in /usr/local/lib/python3.10/dist-packages (from python-dateutil>=2.7->matplotlib) (1.17.0)\n",
            "Requirement already satisfied: charset-normalizer<4,>=2 in /usr/local/lib/python3.10/dist-packages (from requests->transformers) (3.4.0)\n",
            "Requirement already satisfied: idna<4,>=2.5 in /usr/local/lib/python3.10/dist-packages (from requests->transformers) (3.10)\n",
            "Requirement already satisfied: urllib3<3,>=1.21.1 in /usr/local/lib/python3.10/dist-packages (from requests->transformers) (2.2.3)\n",
            "Requirement already satisfied: certifi>=2017.4.17 in /usr/local/lib/python3.10/dist-packages (from requests->transformers) (2024.12.14)\n",
            "Requirement already satisfied: MarkupSafe>=2.0 in /usr/local/lib/python3.10/dist-packages (from jinja2->torch) (3.0.2)\n"
          ]
        }
      ],
      "source": [
        "# Installing the required libraries\n",
        "!pip install transformers datasets torch seaborn matplotlib scikit-learn"
      ]
    },
    {
      "cell_type": "code",
      "source": [
        "import numpy as np\n",
        "import pandas as pd"
      ],
      "metadata": {
        "id": "tDTVmidWMf5L"
      },
      "execution_count": 3,
      "outputs": []
    },
    {
      "cell_type": "code",
      "source": [
        "# Loading the datasets\n",
        "df = pd.read_csv('/content/train_1.csv', encoding='latin-1')"
      ],
      "metadata": {
        "id": "zmggW3uXNHal"
      },
      "execution_count": 4,
      "outputs": []
    },
    {
      "cell_type": "code",
      "source": [
        "# Labels(Tactic Labels)\n",
        "print(df.columns[1:])"
      ],
      "metadata": {
        "colab": {
          "base_uri": "https://localhost:8080/"
        },
        "id": "Aw0B2k5_NTPZ",
        "outputId": "0048c678-b7d6-4c4d-ab13-ec385fa57009"
      },
      "execution_count": 5,
      "outputs": [
        {
          "output_type": "stream",
          "name": "stdout",
          "text": [
            "Index(['Text', 'Reconnaissance', 'Resource Development', 'Initial Access',\n",
            "       'Execution', 'Persistence', 'Privilege Escalation', 'Defense Evasion',\n",
            "       'Credential Access', 'Discovery', 'Lateral Movement', 'Collection',\n",
            "       'Command and Control', 'Exfiltration', 'Impact'],\n",
            "      dtype='object')\n"
          ]
        }
      ]
    },
    {
      "cell_type": "code",
      "source": [
        "import matplotlib.pyplot as plt\n",
        "\n",
        "# List of tactic labels\n",
        "tactic_labels = ['Reconnaissance', 'Resource Development', 'Initial Access', 'Execution',\n",
        "                 'Persistence', 'Privilege Escalation', 'Defense Evasion',\n",
        "                 'Credential Access', 'Discovery', 'Lateral Movement', 'Collection',\n",
        "                 'Command and Control', 'Exfiltration', 'Impact']\n",
        "\n",
        "# Calculate the frequency distribution\n",
        "frequency_distribution = df[tactic_labels].sum()\n",
        "\n",
        "# Plot the frequency distribution\n",
        "plt.figure(figsize=(12, 6))\n",
        "plt.bar(frequency_distribution.index, frequency_distribution.values, color='skyblue', edgecolor='black')\n",
        "plt.xlabel('Tactic Labels', fontsize=12)\n",
        "plt.ylabel('Frequency (Number of CVE IDs)', fontsize=12)\n",
        "plt.title('Frequency Distribution of Tactic Labels', fontsize=14)\n",
        "plt.xticks(rotation=45, ha='right', fontsize=10)\n",
        "plt.grid(axis='y', linestyle='--', alpha=0.7)\n",
        "plt.tight_layout()\n",
        "plt.show()\n"
      ],
      "metadata": {
        "colab": {
          "base_uri": "https://localhost:8080/",
          "height": 442
        },
        "id": "pF3ILBlbNWmq",
        "outputId": "09415883-575e-4d12-cacd-1f395a988abd"
      },
      "execution_count": 6,
      "outputs": [
        {
          "output_type": "display_data",
          "data": {
            "text/plain": [
              "<Figure size 1200x600 with 1 Axes>"
            ],
            "image/png": "[encoded data removed]"
          },
          "metadata": {}
        }
      ]
    },
    {
      "cell_type": "code",
      "source": [
        "# Dropping the first column 'ID'\n",
        "df_modified = df.drop(columns=['ID'])\n"
      ],
      "metadata": {
        "id": "AvL6YEiHNauL"
      },
      "execution_count": 7,
      "outputs": []
    },
    {
      "cell_type": "code",
      "source": [
        "# Splitting into train, validation and test sets\n",
        "from sklearn.model_selection import train_test_split\n",
        "\n",
        "# Extract input text and labels\n",
        "texts = df_modified['Text'].tolist()\n",
        "# Assuming tactic IDs start from the second column and are numeric\n",
        "# Convert the columns to numeric, errors='coerce' will handle non-numeric values\n",
        "labels = df.iloc[:, 1:].apply(pd.to_numeric, errors='coerce').fillna(0).values\n",
        "\n",
        "# Check if stratified splitting is possible\n",
        "min_class_counts = labels.sum(axis=0).min()\n",
        "if min_class_counts < 2:\n",
        "    print(f\"Some classes have fewer than 2 samples (min count: {min_class_counts}). Using random splitting.\")\n",
        "\n",
        "# Perform splitting\n",
        "train_text, temp_text, train_labels, temp_labels = train_test_split(\n",
        "    texts, labels, test_size=0.2, random_state=0  # Random split for train/temporary split\n",
        ")\n",
        "\n",
        "# Split the temporary set into validation and test sets\n",
        "val_text, test_text, val_labels, test_labels = train_test_split(\n",
        "    temp_text, temp_labels, test_size=0.5, random_state=0  # Random split for validation/test\n",
        ")\n",
        "\n",
        "# Print the sizes of each set\n",
        "print(f\"Train set size: {len(train_text)}\")\n",
        "print(f\"Validation set size: {len(val_text)}\")\n",
        "print(f\"Test set size: {len(test_text)}\")"
      ],
      "metadata": {
        "colab": {
          "base_uri": "https://localhost:8080/"
        },
        "id": "egS0Jpc3NfW8",
        "outputId": "0f3411e9-c89f-4fb8-cfa3-a59183a09dae"
      },
      "execution_count": 8,
      "outputs": [
        {
          "output_type": "stream",
          "name": "stdout",
          "text": [
            "Some classes have fewer than 2 samples (min count: 0.0). Using random splitting.\n",
            "Train set size: 4811\n",
            "Validation set size: 601\n",
            "Test set size: 602\n"
          ]
        }
      ]
    },
    {
      "cell_type": "code",
      "source": [
        "# Converting data to Hugging Face dataset format\n",
        "from datasets import Dataset\n",
        "train_dataset = Dataset.from_dict({'text': train_text, 'labels': train_labels.tolist()})\n",
        "val_dataset = Dataset.from_dict({'text': val_text, 'labels': val_labels.tolist()})\n",
        "test_dataset = Dataset.from_dict({'text': test_text, 'labels': test_labels.tolist()})"
      ],
      "metadata": {
        "id": "LBasYN3ROHTn"
      },
      "execution_count": 9,
      "outputs": []
    },
    {
      "cell_type": "code",
      "source": [
        "# Loading tokenizer and model\n",
        "from transformers import AutoTokenizer, AutoModelForSequenceClassification, Trainer, TrainingArguments\n",
        "model_name = 'markusbayer/CySecBERT'\n",
        "tokenizer = AutoTokenizer.from_pretrained(model_name)\n",
        "model = AutoModelForSequenceClassification.from_pretrained(model_name, num_labels=labels.shape[1])\n"
      ],
      "metadata": {
        "colab": {
          "base_uri": "https://localhost:8080/"
        },
        "id": "z5aqMQVnOLAP",
        "outputId": "36912c4e-c83c-4d35-dc29-0f3bff26afb4"
      },
      "execution_count": 10,
      "outputs": [
        {
          "output_type": "stream",
          "name": "stderr",
          "text": [
            "/usr/local/lib/python3.10/dist-packages/huggingface_hub/utils/_auth.py:94: UserWarning: \n",
            "The secret `HF_TOKEN` does not exist in your Colab secrets.\n",
            "To authenticate with the Hugging Face Hub, create a token in your settings tab (https://huggingface.co/settings/tokens), set it as secret in your Google Colab and restart your session.\n",
            "You will be able to reuse this secret in all of your notebooks.\n",
            "Please note that authentication is recommended but still optional to access public models or datasets.\n",
            "  warnings.warn(\n",
            "Some weights of BertForSequenceClassification were not initialized from the model checkpoint at markusbayer/CySecBERT and are newly initialized: ['bert.pooler.dense.bias', 'bert.pooler.dense.weight', 'classifier.bias', 'classifier.weight']\n",
            "You should probably TRAIN this model on a down-stream task to be able to use it for predictions and inference.\n"
          ]
        }
      ]
    },
    {
      "cell_type": "code",
      "source": [
        "# Tokenizing Data\n",
        "def preprocess_data(examples):\n",
        "  encoding = tokenizer(examples['text'], truncation=True, padding=True, max_length=512)\n",
        "  encoding['labels'] = examples['labels']\n",
        "  return encoding\n",
        "\n",
        "train_dataset = train_dataset.map(preprocess_data, batched=True)\n",
        "val_dataset = val_dataset.map(preprocess_data, batched=True)\n",
        "test_dataset = test_dataset.map(preprocess_data, batched=True)\n",
        "\n",
        "# Set format for Pytorch Tensors\n",
        "train_dataset.set_format('torch', columns=['input_ids', 'attention_mask', 'labels'])\n",
        "val_dataset.set_format('torch', columns=['input_ids', 'attention_mask', 'labels'])\n",
        "test_dataset.set_format('torch', columns=['input_ids', 'attention_mask', 'labels'])"
      ],
      "metadata": {
        "colab": {
          "base_uri": "https://localhost:8080/",
          "height": 113,
          "referenced_widgets": [
            "680600ece314461ca7c342a645097083",
            "4569e4b255f24ddeacb68ddb0e8a6ebe",
            "5aaa0d6c76bf4b87a929779f9a00ac8e",
            "1f14b10f5519439884bbfd0b49057ee0",
            "c4e1d8fbd02049a5ab1599d9121cf1c0",
            "d56f3f6de8c94aefb58e7e54457d8af8",
            "cca7a2966d2147f0adbf5cc7960d08d2",
            "5eb228d1b6f1429297d1f3920b4910d0",
            "34290680dfa44a92bc8224631eb36790",
            "bd0250cee89f4bf8b6fd247fa7b830bf",
            "220eacafdc0d4df88d4065f7febfac70",
            "dc7432ed240b4855af3ab7d676472c5b",
            "02a09423d0234b50b9747a2b521651c8",
            "f722e1651b0946ba8f79a0bdaa4cb4b1",
            "0023f4f3515d41179dbdf8dfffedfec0",
            "211f9f4530284955bec66596f41c72fa",
            "dc95635ad41849d4b5945aad3182a5e1",
            "40098950dd7941669dd58127fe85a720",
            "2be5a1054d7f490ca9dd90c230688589",
            "8b72d680452b48c4a1cde75a348ce0bd",
            "2178d4c6227149febc826cc324c5b9e7",
            "0929cad27adc4af3a0f4b7101f0dcd33",
            "8f2ffaf3172b451798e66a63bfe1388f",
            "f6d1d4ab7cae46ffb50496e199b43bfe",
            "59d6ee7bd9e9476fb170bfbb738bad36",
            "d01682c7c58847ffb352844bab52aaf4",
            "0aca2aa7bca54373a4e84808e2e714af",
            "a8690dc3459c4ee6a3302ea614783659",
            "f1853e128d2c4ebf81290ee6fb141c1b",
            "8388908380d44d269f62a7ab18287a5d",
            "17ee5077b4784a8cb4b43eff254267b5",
            "0c8f539dc5a94439ba8eb016b577533c",
            "7730d22b9b894bfca6a87163ef7404d0"
          ]
        },
        "id": "jsZbnqe_OUqO",
        "outputId": "05900a6c-167d-4714-d3b0-536151974578"
      },
      "execution_count": 11,
      "outputs": [
        {
          "output_type": "display_data",
          "data": {
            "text/plain": [
              "Map:   0%|          | 0/4811 [00:00<?, ? examples/s]"
            ],
            "application/vnd.jupyter.widget-view+json": {
              "version_major": 2,
              "version_minor": 0,
              "model_id": "680600ece314461ca7c342a645097083"
            }
          },
          "metadata": {}
        },
        {
          "output_type": "display_data",
          "data": {
            "text/plain": [
              "Map:   0%|          | 0/601 [00:00<?, ? examples/s]"
            ],
            "application/vnd.jupyter.widget-view+json": {
              "version_major": 2,
              "version_minor": 0,
              "model_id": "dc7432ed240b4855af3ab7d676472c5b"
            }
          },
          "metadata": {}
        },
        {
          "output_type": "display_data",
          "data": {
            "text/plain": [
              "Map:   0%|          | 0/602 [00:00<?, ? examples/s]"
            ],
            "application/vnd.jupyter.widget-view+json": {
              "version_major": 2,
              "version_minor": 0,
              "model_id": "8f2ffaf3172b451798e66a63bfe1388f"
            }
          },
          "metadata": {}
        }
      ]
    },
    {
      "cell_type": "code",
      "source": [
        "# Define training arguments\n",
        "training_args = TrainingArguments(\n",
        "    output_dir = './results',\n",
        "    eval_strategy = 'epoch',\n",
        "    save_strategy = 'epoch',\n",
        "    learning_rate = 2e-5,\n",
        "    per_device_train_batch_size = 8,\n",
        "    per_device_eval_batch_size = 8,\n",
        "    num_train_epochs = 5,\n",
        "    weight_decay = 0.01,\n",
        "    load_best_model_at_end = True,\n",
        "    metric_for_best_model = 'eval_loss',\n",
        "    logging_strategy=\"epoch\",  # or \"steps\"\n",
        "    logging_steps=100,  # log every 100 steps (if using logging_strategy=\"steps\")\n",
        "    logging_dir=\"./logs\", # directory to save logs\n",
        ")"
      ],
      "metadata": {
        "id": "s4yphw3qOb27"
      },
      "execution_count": 12,
      "outputs": []
    },
    {
      "cell_type": "code",
      "source": [
        "# Define Trainer\n",
        "import torch\n",
        "def compute_metrics(pred):\n",
        "  logits, labels = pred\n",
        "  logits = torch.sigmoid(torch.tensor(logits))\n",
        "  predictions = (logits>0.5).int()\n",
        "  true_positives = (predictions * labels).sum(axis=0).float()\n",
        "  false_positives = (predictions * (1-labels)).sum(axis=0).float()\n",
        "  false_negatives = ((1-predictions) * labels).sum(axis=0).float()\n",
        "  true_negatives = ((1-predictions) * (1-labels)).sum(axis=0).float()\n",
        "\n",
        "  precision = true_positives / (true_positives + false_positives + 1e-7)\n",
        "  recall = true_positives / (true_positives + false_negatives + 1e-7)\n",
        "  f1 = 2 * (precision * recall) / (precision + recall + 1e-7)\n",
        "  accuracy = (predictions == labels).float().mean()\n",
        "\n",
        "  return{\n",
        "      'precision': precision.tolist(),\n",
        "      'recall': recall.tolist(),\n",
        "      'f1': f1.tolist(),\n",
        "      'accuracy': accuracy.item()\n",
        "  }\n"
      ],
      "metadata": {
        "id": "yyzuoYIEOfFQ"
      },
      "execution_count": 13,
      "outputs": []
    },
    {
      "cell_type": "code",
      "source": [
        "from transformers import Trainer\n",
        "\n",
        "class CustomTrainer(Trainer):\n",
        "    def compute_loss(self, model, inputs, return_outputs=False, num_items_in_batch=None):\n",
        "        \"\"\"\n",
        "        How the loss is computed by Trainer. By default, all outputs of\n",
        "        the model are passed to the loss function as returned by the model.\n",
        "\n",
        "        Override this to adapt the loss function to the model's outputs and labels.\n",
        "        \"\"\"\n",
        "        labels = inputs.pop(\"labels\")\n",
        "        outputs = model(**inputs)\n",
        "        # Save past state if it exists\n",
        "        # TODO: this needs to be fixed and made cleaner later.\n",
        "        if self.args.past_index >= 0:\n",
        "            self._past = outputs[self.args.past_index]\n",
        "\n",
        "        logits = outputs.logits  # Assuming your model outputs logits under the 'logits' key\n",
        "        # Change the loss function to BCEWithLogitsLoss which expects raw logits and integer labels\n",
        "        loss_fct = torch.nn.BCEWithLogitsLoss()\n",
        "        # Instead of reshaping, calculate the loss for each item in the batch separately.\n",
        "        # This handles variable sequence lengths correctly.\n",
        "        loss = 0\n",
        "        for i in range(logits.shape[0]): # Iterate over batch size\n",
        "            # Extract logits and labels for the current item\n",
        "            item_logits = logits[i, :len(labels[i])]\n",
        "            item_labels = labels[i]\n",
        "            # Ignore -100 in labels (usually used for padding) when calculating loss\n",
        "            # Only consider the actual tokens, not the padding tokens\n",
        "            active_loss = item_labels.view(-1) != -100\n",
        "            item_logits = item_logits[active_loss]\n",
        "            item_labels = labels[i][active_loss].type(torch.float) # Cast item_labels to float\n",
        "            # Check if there are any active tokens for this item before calculating loss\n",
        "            if len(item_labels) > 0:\n",
        "                # Accumulate the loss for each item in the batch\n",
        "                loss += loss_fct(item_logits, item_labels)\n",
        "\n",
        "        # Average the loss across the batch size\n",
        "        loss /= logits.shape[0]\n",
        "        return (loss, outputs) if return_outputs else loss"
      ],
      "metadata": {
        "id": "uRy3f_76OiSv"
      },
      "execution_count": 14,
      "outputs": []
    },
    {
      "cell_type": "code",
      "source": [
        "trainer = CustomTrainer(\n",
        "      model = model,\n",
        "      args = training_args,\n",
        "      train_dataset = train_dataset,\n",
        "      eval_dataset = val_dataset,\n",
        "      compute_metrics = compute_metrics\n",
        "  )"
      ],
      "metadata": {
        "id": "-4NH3H_3Onb9"
      },
      "execution_count": 15,
      "outputs": []
    },
    {
      "cell_type": "code",
      "source": [
        "# Train the model\n",
        "trainer.train()"
      ],
      "metadata": {
        "colab": {
          "base_uri": "https://localhost:8080/",
          "height": 1000
        },
        "id": "sg02kSgCOrd_",
        "outputId": "3a37f1ea-e3cc-44b9-b0b8-ea1db802e3ba"
      },
      "execution_count": 16,
      "outputs": [
        {
          "output_type": "stream",
          "name": "stderr",
          "text": [
            "\u001b[34m\u001b[1mwandb\u001b[0m: \u001b[33mWARNING\u001b[0m The `run_name` is currently set to the same value as `TrainingArguments.output_dir`. If this was not intended, please specify a different run name by setting the `TrainingArguments.run_name` parameter.\n",
            "\u001b[34m\u001b[1mwandb\u001b[0m: Using wandb-core as the SDK backend.  Please refer to https://wandb.me/wandb-core for more information.\n",
            "\u001b[34m\u001b[1mwandb\u001b[0m: Currently logged in as: \u001b[33mswatidhawana\u001b[0m (\u001b[33mswatidhawana-central-university-of-rajasthan\u001b[0m). Use \u001b[1m`wandb login --relogin`\u001b[0m to force relogin\n"
          ]
        },
        {
          "output_type": "display_data",
          "data": {
            "text/plain": [
              "<IPython.core.display.HTML object>"
            ],
            "text/html": [
              "Tracking run with wandb version 0.19.1"
            ]
          },
          "metadata": {}
        },
        {
          "output_type": "display_data",
          "data": {
            "text/plain": [
              "<IPython.core.display.HTML object>"
            ],
            "text/html": [
              "Run data is saved locally in <code>/content/wandb/run-20250103_052510-2s04wvn7</code>"
            ]
          },
          "metadata": {}
        },
        {
          "output_type": "display_data",
          "data": {
            "text/plain": [
              "<IPython.core.display.HTML object>"
            ],
            "text/html": [
              "Syncing run <strong><a href='https://wandb.ai/swatidhawana-central-university-of-rajasthan/huggingface/runs/2s04wvn7' target=\"_blank\">./results</a></strong> to <a href='https://wandb.ai/swatidhawana-central-university-of-rajasthan/huggingface' target=\"_blank\">Weights & Biases</a> (<a href='https://wandb.me/developer-guide' target=\"_blank\">docs</a>)<br>"
            ]
          },
          "metadata": {}
        },
        {
          "output_type": "display_data",
          "data": {
            "text/plain": [
              "<IPython.core.display.HTML object>"
            ],
            "text/html": [
              " View project at <a href='https://wandb.ai/swatidhawana-central-university-of-rajasthan/huggingface' target=\"_blank\">https://wandb.ai/swatidhawana-central-university-of-rajasthan/huggingface</a>"
            ]
          },
          "metadata": {}
        },
        {
          "output_type": "display_data",
          "data": {
            "text/plain": [
              "<IPython.core.display.HTML object>"
            ],
            "text/html": [
              " View run at <a href='https://wandb.ai/swatidhawana-central-university-of-rajasthan/huggingface/runs/2s04wvn7' target=\"_blank\">https://wandb.ai/swatidhawana-central-university-of-rajasthan/huggingface/runs/2s04wvn7</a>"
            ]
          },
          "metadata": {}
        },
        {
          "output_type": "display_data",
          "data": {
            "text/plain": [
              "<IPython.core.display.HTML object>"
            ],
            "text/html": [
              "\n",
              "    <div>\n",
              "      \n",
              "      <progress value='3010' max='3010' style='width:300px; height:20px; vertical-align: middle;'></progress>\n",
              "      [3010/3010 57:44, Epoch 5/5]\n",
              "    </div>\n",
              "    <table border=\"1\" class=\"dataframe\">\n",
              "  <thead>\n",
              " <tr style=\"text-align: left;\">\n",
              "      <th>Epoch</th>\n",
              "      <th>Training Loss</th>\n",
              "      <th>Validation Loss</th>\n",
              "      <th>Precision</th>\n",
              "      <th>Recall</th>\n",
              "      <th>F1</th>\n",
              "      <th>Accuracy</th>\n",
              "    </tr>\n",
              "  </thead>\n",
              "  <tbody>\n",
              "    <tr>\n",
              "      <td>1</td>\n",
              "      <td>0.267100</td>\n",
              "      <td>0.203365</td>\n",
              "      <td>[0.0, 0.0, 0.0, 0.0, 0.7685950398445129, 0.8285714387893677, 0.8166666626930237, 0.8886597752571106, 0.0, 0.8448275923728943, 0.7685950398445129, 0.75, 0.0, 0.0, 0.0]</td>\n",
              "      <td>[0.0, 0.0, 0.0, 0.0, 0.5705521702766418, 0.8011049628257751, 0.765625, 0.9451754093170166, 0.0, 0.653333306312561, 0.7948718070983887, 0.07692307978868484, 0.0, 0.0, 0.0]</td>\n",
              "      <td>[0.0, 0.0, 0.0, 0.0, 0.654929518699646, 0.8146067261695862, 0.7903225421905518, 0.916046679019928, 0.0, 0.7368420958518982, 0.7815126180648804, 0.1395348757505417, 0.0, 0.0, 0.0]</td>\n",
              "      <td>0.928785</td>\n",
              "    </tr>\n",
              "    <tr>\n",
              "      <td>2</td>\n",
              "      <td>0.182500</td>\n",
              "      <td>0.191835</td>\n",
              "      <td>[0.0, 0.0, 1.0, 0.0, 0.7638888955116272, 0.8087431788444519, 0.7978723645210266, 0.885947048664093, 0.7037037014961243, 0.8442623019218445, 0.7637795209884644, 0.6818181872367859, 0.6499999761581421, 1.0, 0.0]</td>\n",
              "      <td>[0.0, 0.0, 0.5, 0.0, 0.6748466491699219, 0.8176795840263367, 0.78125, 0.9539473652839661, 0.5, 0.6866666674613953, 0.8290598392486572, 0.38461539149284363, 0.5652173757553101, 0.30000001192092896, 0.0]</td>\n",
              "      <td>[0.0, 0.0, 0.6666666269302368, 0.0, 0.7166123986244202, 0.813186764717102, 0.7894737124443054, 0.9186905026435852, 0.5846153497695923, 0.7573528289794922, 0.7950819134712219, 0.49180322885513306, 0.6046510934829712, 0.4615384638309479, 0.0]</td>\n",
              "      <td>0.933888</td>\n",
              "    </tr>\n",
              "    <tr>\n",
              "      <td>3</td>\n",
              "      <td>0.147000</td>\n",
              "      <td>0.188341</td>\n",
              "      <td>[0.0, 0.0, 1.0, 0.692307710647583, 0.7289156913757324, 0.8054053783416748, 0.7938144207000732, 0.8944099545478821, 0.7037037014961243, 0.8206896781921387, 0.7461538314819336, 0.6399999856948853, 0.625, 1.0, 0.0]</td>\n",
              "      <td>[0.0, 0.0, 0.625, 0.20454545319080353, 0.7423312664031982, 0.8232043981552124, 0.8020833134651184, 0.9473684430122375, 0.5, 0.7933333516120911, 0.8290598392486572, 0.41025641560554504, 0.6521739363670349, 0.699999988079071, 0.0]</td>\n",
              "      <td>[0.0, 0.0, 0.7692307233810425, 0.31578943133354187, 0.735562264919281, 0.8142076134681702, 0.7979273796081543, 0.9201277494430542, 0.5846153497695923, 0.8067796230316162, 0.7854250073432922, 0.4999999403953552, 0.6382977962493896, 0.8235293030738831, 0.0]</td>\n",
              "      <td>0.935885</td>\n",
              "    </tr>\n",
              "    <tr>\n",
              "      <td>4</td>\n",
              "      <td>0.124000</td>\n",
              "      <td>0.197717</td>\n",
              "      <td>[0.0, 0.0, 1.0, 0.4285714328289032, 0.7117646932601929, 0.737089216709137, 0.7252252101898193, 0.8924949169158936, 0.6774193644523621, 0.8467153310775757, 0.720588207244873, 0.5925925970077515, 0.5769230723381042, 1.0, 0.5]</td>\n",
              "      <td>[0.0, 0.0, 0.375, 0.06818182021379471, 0.7423312664031982, 0.8674033284187317, 0.8385416865348816, 0.9649122953414917, 0.5526315569877625, 0.7733333110809326, 0.8376068472862244, 0.41025641560554504, 0.6521739363670349, 0.6000000238418579, 0.0357142873108387]</td>\n",
              "      <td>[0.0, 0.0, 0.5454545021057129, 0.11764704436063766, 0.7267266511917114, 0.7969542741775513, 0.7777777314186096, 0.9272918105125427, 0.6086956262588501, 0.8083622455596924, 0.7747034430503845, 0.4848484396934509, 0.6122448444366455, 0.7499999403953552, 0.06666665524244308]</td>\n",
              "      <td>0.931669</td>\n",
              "    </tr>\n",
              "    <tr>\n",
              "      <td>5</td>\n",
              "      <td>0.107900</td>\n",
              "      <td>0.193031</td>\n",
              "      <td>[0.0, 0.0, 1.0, 0.5714285969734192, 0.7532467246055603, 0.7903226017951965, 0.7743589878082275, 0.8979166746139526, 0.6666666865348816, 0.8382353186607361, 0.7580645084381104, 0.5925925970077515, 0.5769230723381042, 1.0, 0.3333333432674408]</td>\n",
              "      <td>[0.0, 0.0, 0.625, 0.1818181872367859, 0.7116564512252808, 0.8121547102928162, 0.7864583134651184, 0.9451754093170166, 0.5789473652839661, 0.7599999904632568, 0.8034188151359558, 0.41025641560554504, 0.6521739363670349, 0.6000000238418579, 0.0357142873108387]</td>\n",
              "      <td>[0.0, 0.0, 0.7692307233810425, 0.27586203813552856, 0.7318611741065979, 0.801089882850647, 0.7803617119789124, 0.920940101146698, 0.6197182536125183, 0.7972027659416199, 0.7800829410552979, 0.4848484396934509, 0.6122448444366455, 0.7499999403953552, 0.0645161122083664]</td>\n",
              "      <td>0.933888</td>\n",
              "    </tr>\n",
              "  </tbody>\n",
              "</table><p>"
            ]
          },
          "metadata": {}
        },
        {
          "output_type": "stream",
          "name": "stderr",
          "text": [
            "Trainer is attempting to log a value of \"[0.0, 0.0, 0.0, 0.0, 0.7685950398445129, 0.8285714387893677, 0.8166666626930237, 0.8886597752571106, 0.0, 0.8448275923728943, 0.7685950398445129, 0.75, 0.0, 0.0, 0.0]\" of type <class 'list'> for key \"eval/precision\" as a scalar. This invocation of Tensorboard's writer.add_scalar() is incorrect so we dropped this attribute.\n",
            "Trainer is attempting to log a value of \"[0.0, 0.0, 0.0, 0.0, 0.5705521702766418, 0.8011049628257751, 0.765625, 0.9451754093170166, 0.0, 0.653333306312561, 0.7948718070983887, 0.07692307978868484, 0.0, 0.0, 0.0]\" of type <class 'list'> for key \"eval/recall\" as a scalar. This invocation of Tensorboard's writer.add_scalar() is incorrect so we dropped this attribute.\n",
            "Trainer is attempting to log a value of \"[0.0, 0.0, 0.0, 0.0, 0.654929518699646, 0.8146067261695862, 0.7903225421905518, 0.916046679019928, 0.0, 0.7368420958518982, 0.7815126180648804, 0.1395348757505417, 0.0, 0.0, 0.0]\" of type <class 'list'> for key \"eval/f1\" as a scalar. This invocation of Tensorboard's writer.add_scalar() is incorrect so we dropped this attribute.\n",
            "Trainer is attempting to log a value of \"[0.0, 0.0, 1.0, 0.0, 0.7638888955116272, 0.8087431788444519, 0.7978723645210266, 0.885947048664093, 0.7037037014961243, 0.8442623019218445, 0.7637795209884644, 0.6818181872367859, 0.6499999761581421, 1.0, 0.0]\" of type <class 'list'> for key \"eval/precision\" as a scalar. This invocation of Tensorboard's writer.add_scalar() is incorrect so we dropped this attribute.\n",
            "Trainer is attempting to log a value of \"[0.0, 0.0, 0.5, 0.0, 0.6748466491699219, 0.8176795840263367, 0.78125, 0.9539473652839661, 0.5, 0.6866666674613953, 0.8290598392486572, 0.38461539149284363, 0.5652173757553101, 0.30000001192092896, 0.0]\" of type <class 'list'> for key \"eval/recall\" as a scalar. This invocation of Tensorboard's writer.add_scalar() is incorrect so we dropped this attribute.\n",
            "Trainer is attempting to log a value of \"[0.0, 0.0, 0.6666666269302368, 0.0, 0.7166123986244202, 0.813186764717102, 0.7894737124443054, 0.9186905026435852, 0.5846153497695923, 0.7573528289794922, 0.7950819134712219, 0.49180322885513306, 0.6046510934829712, 0.4615384638309479, 0.0]\" of type <class 'list'> for key \"eval/f1\" as a scalar. This invocation of Tensorboard's writer.add_scalar() is incorrect so we dropped this attribute.\n",
            "Trainer is attempting to log a value of \"[0.0, 0.0, 1.0, 0.692307710647583, 0.7289156913757324, 0.8054053783416748, 0.7938144207000732, 0.8944099545478821, 0.7037037014961243, 0.8206896781921387, 0.7461538314819336, 0.6399999856948853, 0.625, 1.0, 0.0]\" of type <class 'list'> for key \"eval/precision\" as a scalar. This invocation of Tensorboard's writer.add_scalar() is incorrect so we dropped this attribute.\n",
            "Trainer is attempting to log a value of \"[0.0, 0.0, 0.625, 0.20454545319080353, 0.7423312664031982, 0.8232043981552124, 0.8020833134651184, 0.9473684430122375, 0.5, 0.7933333516120911, 0.8290598392486572, 0.41025641560554504, 0.6521739363670349, 0.699999988079071, 0.0]\" of type <class 'list'> for key \"eval/recall\" as a scalar. This invocation of Tensorboard's writer.add_scalar() is incorrect so we dropped this attribute.\n",
            "Trainer is attempting to log a value of \"[0.0, 0.0, 0.7692307233810425, 0.31578943133354187, 0.735562264919281, 0.8142076134681702, 0.7979273796081543, 0.9201277494430542, 0.5846153497695923, 0.8067796230316162, 0.7854250073432922, 0.4999999403953552, 0.6382977962493896, 0.8235293030738831, 0.0]\" of type <class 'list'> for key \"eval/f1\" as a scalar. This invocation of Tensorboard's writer.add_scalar() is incorrect so we dropped this attribute.\n",
            "Trainer is attempting to log a value of \"[0.0, 0.0, 1.0, 0.4285714328289032, 0.7117646932601929, 0.737089216709137, 0.7252252101898193, 0.8924949169158936, 0.6774193644523621, 0.8467153310775757, 0.720588207244873, 0.5925925970077515, 0.5769230723381042, 1.0, 0.5]\" of type <class 'list'> for key \"eval/precision\" as a scalar. This invocation of Tensorboard's writer.add_scalar() is incorrect so we dropped this attribute.\n",
            "Trainer is attempting to log a value of \"[0.0, 0.0, 0.375, 0.06818182021379471, 0.7423312664031982, 0.8674033284187317, 0.8385416865348816, 0.9649122953414917, 0.5526315569877625, 0.7733333110809326, 0.8376068472862244, 0.41025641560554504, 0.6521739363670349, 0.6000000238418579, 0.0357142873108387]\" of type <class 'list'> for key \"eval/recall\" as a scalar. This invocation of Tensorboard's writer.add_scalar() is incorrect so we dropped this attribute.\n",
            "Trainer is attempting to log a value of \"[0.0, 0.0, 0.5454545021057129, 0.11764704436063766, 0.7267266511917114, 0.7969542741775513, 0.7777777314186096, 0.9272918105125427, 0.6086956262588501, 0.8083622455596924, 0.7747034430503845, 0.4848484396934509, 0.6122448444366455, 0.7499999403953552, 0.06666665524244308]\" of type <class 'list'> for key \"eval/f1\" as a scalar. This invocation of Tensorboard's writer.add_scalar() is incorrect so we dropped this attribute.\n",
            "Trainer is attempting to log a value of \"[0.0, 0.0, 1.0, 0.5714285969734192, 0.7532467246055603, 0.7903226017951965, 0.7743589878082275, 0.8979166746139526, 0.6666666865348816, 0.8382353186607361, 0.7580645084381104, 0.5925925970077515, 0.5769230723381042, 1.0, 0.3333333432674408]\" of type <class 'list'> for key \"eval/precision\" as a scalar. This invocation of Tensorboard's writer.add_scalar() is incorrect so we dropped this attribute.\n",
            "Trainer is attempting to log a value of \"[0.0, 0.0, 0.625, 0.1818181872367859, 0.7116564512252808, 0.8121547102928162, 0.7864583134651184, 0.9451754093170166, 0.5789473652839661, 0.7599999904632568, 0.8034188151359558, 0.41025641560554504, 0.6521739363670349, 0.6000000238418579, 0.0357142873108387]\" of type <class 'list'> for key \"eval/recall\" as a scalar. This invocation of Tensorboard's writer.add_scalar() is incorrect so we dropped this attribute.\n",
            "Trainer is attempting to log a value of \"[0.0, 0.0, 0.7692307233810425, 0.27586203813552856, 0.7318611741065979, 0.801089882850647, 0.7803617119789124, 0.920940101146698, 0.6197182536125183, 0.7972027659416199, 0.7800829410552979, 0.4848484396934509, 0.6122448444366455, 0.7499999403953552, 0.0645161122083664]\" of type <class 'list'> for key \"eval/f1\" as a scalar. This invocation of Tensorboard's writer.add_scalar() is incorrect so we dropped this attribute.\n"
          ]
        },
        {
          "output_type": "execute_result",
          "data": {
            "text/plain": [
              "TrainOutput(global_step=3010, training_loss=0.1656956568112801, metrics={'train_runtime': 3473.4532, 'train_samples_per_second': 6.925, 'train_steps_per_second': 0.867, 'total_flos': 6329875184593920.0, 'train_loss': 0.1656956568112801, 'epoch': 5.0})"
            ]
          },
          "metadata": {},
          "execution_count": 16
        }
      ]
    },
    {
      "cell_type": "code",
      "source": [
        "# Save the fine-tuned model\n",
        "model.save_pretrained(\"./fine_tuned_cysecbert\")\n",
        "tokenizer.save_pretrained(\"./fine_tuned_cysecbert\")"
      ],
      "metadata": {
        "id": "NMyZ5cKh1ZLW",
        "outputId": "c4421adf-5a42-4406-f9d1-2e7b082adeb1",
        "colab": {
          "base_uri": "https://localhost:8080/"
        }
      },
      "execution_count": 17,
      "outputs": [
        {
          "output_type": "execute_result",
          "data": {
            "text/plain": [
              "('./fine_tuned_cysecbert/tokenizer_config.json',\n",
              " './fine_tuned_cysecbert/special_tokens_map.json',\n",
              " './fine_tuned_cysecbert/vocab.txt',\n",
              " './fine_tuned_cysecbert/added_tokens.json',\n",
              " './fine_tuned_cysecbert/tokenizer.json')"
            ]
          },
          "metadata": {},
          "execution_count": 17
        }
      ]
    },
    {
      "cell_type": "code",
      "source": [
        "# Get predictions from the model\n",
        "predictions = trainer.predict(val_dataset)\n",
        "\n",
        "# Extract the predicted labels (assuming your model outputs logits)\n",
        "# Get predicted probabilities for all classes\n",
        "predicted_probs = torch.sigmoid(torch.tensor(predictions.predictions))\n",
        "# Assign label 1 if probability > 0.5, otherwise 0\n",
        "predicted_labels = (predicted_probs > 0.5).int().cpu().numpy()\n",
        "# Get the true labels for the validation dataset\n",
        "labels = val_dataset['labels'] # Assuming 'labels' is the key for labels in your dataset\n",
        "# Compute metrics\n",
        "metrics = compute_metrics((predicted_labels, labels))\n",
        "\n",
        "# Print the aggregated metrics\n",
        "print(\"Evaluation Metrics:\")\n",
        "print(f\"Accuracy: {metrics['accuracy']:.4f}\")\n",
        "print(f\"Precision (per label): {metrics['precision']}\")\n",
        "print(f\"Recall (per label): {metrics['recall']}\")\n",
        "print(f\"F1-score (per label): {metrics['f1']}\")\n",
        "\n",
        "# Optionally, calculate averages (e.g., macro-average)\n",
        "precision_avg = sum(metrics['precision']) / len(metrics['precision'])\n",
        "recall_avg = sum(metrics['recall']) / len(metrics['recall'])\n",
        "f1_avg = sum(metrics['f1']) / len(metrics['f1'])\n",
        "print(\"\\nMacro-Averaged Metrics:\")\n",
        "print(f\"Precision: {precision_avg:.4f}\")\n",
        "print(f\"Recall: {recall_avg:.4f}\")\n",
        "print(f\"F1-score: {f1_avg:.4f}\")"
      ],
      "metadata": {
        "id": "ESntkNXa1kBh",
        "outputId": "bebc68fb-764e-4056-8178-bfa131d6c4ff",
        "colab": {
          "base_uri": "https://localhost:8080/",
          "height": 211
        }
      },
      "execution_count": 18,
      "outputs": [
        {
          "output_type": "display_data",
          "data": {
            "text/plain": [
              "<IPython.core.display.HTML object>"
            ],
            "text/html": []
          },
          "metadata": {}
        },
        {
          "output_type": "stream",
          "name": "stdout",
          "text": [
            "Evaluation Metrics:\n",
            "Accuracy: 0.9359\n",
            "Precision (per label): [0.0, 0.0, 1.0, 0.692307710647583, 0.7289156913757324, 0.8054053783416748, 0.7938144207000732, 0.8944099545478821, 0.7037037014961243, 0.8206896781921387, 0.7461538314819336, 0.6399999856948853, 0.625, 1.0, 0.0]\n",
            "Recall (per label): [0.0, 0.0, 0.625, 0.20454545319080353, 0.7423312664031982, 0.8232043981552124, 0.8020833134651184, 0.9473684430122375, 0.5, 0.7933333516120911, 0.8290598392486572, 0.41025641560554504, 0.6521739363670349, 0.699999988079071, 0.0]\n",
            "F1-score (per label): [0.0, 0.0, 0.7692307233810425, 0.31578943133354187, 0.735562264919281, 0.8142076134681702, 0.7979273796081543, 0.9201277494430542, 0.5846153497695923, 0.8067796230316162, 0.7854250073432922, 0.4999999403953552, 0.6382977962493896, 0.8235293030738831, 0.0]\n",
            "\n",
            "Macro-Averaged Metrics:\n",
            "Precision: 0.6300\n",
            "Recall: 0.5353\n",
            "F1-score: 0.5661\n"
          ]
        }
      ]
    },
    {
      "cell_type": "code",
      "source": [
        "import matplotlib.pyplot as plt\n",
        "import seaborn as sns\n",
        "import numpy as np\n",
        "from sklearn.metrics import confusion_matrix\n",
        "\n",
        "# Assuming you have 'trainer' and 'predictions' from your previous code\n",
        "\n",
        "# 1. Training Progress Plot\n",
        "# Accessing training loss from the log history (assuming it's a list of dictionaries)\n",
        "train_loss = [log['loss'] for log in trainer.state.log_history if 'loss' in log]\n",
        "# The above line iterates through the log_history list and extracts the 'loss' value\n",
        "# if it exists in the current log dictionary.\n",
        "\n",
        "epochs = range(1, len(train_loss) + 1)\n",
        "plt.plot(epochs, train_loss, label='Training Loss')\n",
        "plt.xlabel('Epochs')\n",
        "plt.ylabel('Loss')\n",
        "plt.title('Training Loss Curve')\n",
        "plt.legend()\n",
        "plt.show()\n",
        "\n",
        "# 2. Evaluation Metrics Plot/Table\n",
        "# (Assuming you have already calculated metrics using 'compute_metrics')\n",
        "metrics = compute_metrics((predicted_labels, labels))\n",
        "# Convert list values to single values (e.g., average) for plotting\n",
        "plot_metrics = {k: np.mean(v) if isinstance(v, (list, np.ndarray)) else v\n",
        "                 for k, v in metrics.items()}\n",
        "\n",
        "plt.bar(plot_metrics.keys(), plot_metrics.values())\n",
        "plt.xlabel('Metrics')\n",
        "plt.ylabel('Values')\n",
        "plt.title('Evaluation Metrics')\n",
        "plt.xticks(rotation=45, ha='right')  # Rotate x-axis labels for readability\n",
        "plt.show()\n",
        "\n",
        "# 3. Confusion Matrix\n",
        "# Assuming predicted_labels and labels are multi-class and need to be converted to 1D\n",
        "cm = confusion_matrix(np.argmax(labels, axis=1), np.argmax(predicted_labels, axis=1))\n",
        "sns.heatmap(cm, annot=True, fmt='d', cmap='Blues')\n",
        "plt.xlabel('Predicted Labels')\n",
        "plt.ylabel('True Labels')\n",
        "plt.title('Confusion Matrix')\n",
        "plt.show()"
      ],
      "metadata": {
        "id": "6HMpEqHv1wv5",
        "outputId": "6487af78-e52d-44e4-d34c-fc913bcbbd36",
        "colab": {
          "base_uri": "https://localhost:8080/",
          "height": 1000
        }
      },
      "execution_count": 19,
      "outputs": [
        {
          "output_type": "display_data",
          "data": {
            "text/plain": [
              "<Figure size 640x480 with 1 Axes>"
            ],
            "image/png": "[encoded data removed]"
          },
          "metadata": {}
        },
        {
          "output_type": "display_data",
          "data": {
            "text/plain": [
              "<Figure size 640x480 with 1 Axes>"
            ],
            "image/png": "[encoded data removed]"
          },
          "metadata": {}
        },
        {
          "output_type": "display_data",
          "data": {
            "text/plain": [
              "<Figure size 640x480 with 2 Axes>"
            ],
            "image/png": "[encoded data removed]"
          },
          "metadata": {}
        }
      ]
    }
  ]
}